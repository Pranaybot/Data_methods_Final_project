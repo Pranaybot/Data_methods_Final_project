{
 "cells": [
  {
   "cell_type": "markdown",
   "metadata": {},
   "source": [
    "### Read Pandas dataframe"
   ]
  },
  {
   "cell_type": "code",
   "execution_count": 1,
   "metadata": {},
   "outputs": [],
   "source": [
    "import pandas as pd \n",
    "import numpy as np \n",
    "import matplotlib.pyplot as plt \n",
    "import seaborn as sns "
   ]
  },
  {
   "cell_type": "code",
   "execution_count": 2,
   "metadata": {},
   "outputs": [
    {
     "data": {
      "text/html": [
       "<style  type=\"text/css\" >\n",
       "    #T_1d5540e2_5b99_11ec_b5ce_38f9d3700188row0_col0 {\n",
       "            background-color:  #fff7fb;\n",
       "            color:  #000000;\n",
       "        }    #T_1d5540e2_5b99_11ec_b5ce_38f9d3700188row0_col5 {\n",
       "            background-color:  #4c99c5;\n",
       "            color:  #000000;\n",
       "        }    #T_1d5540e2_5b99_11ec_b5ce_38f9d3700188row0_col6 {\n",
       "            background-color:  #9ebad9;\n",
       "            color:  #000000;\n",
       "        }    #T_1d5540e2_5b99_11ec_b5ce_38f9d3700188row0_col7 {\n",
       "            background-color:  #3d93c2;\n",
       "            color:  #000000;\n",
       "        }    #T_1d5540e2_5b99_11ec_b5ce_38f9d3700188row1_col0 {\n",
       "            background-color:  #d0d1e6;\n",
       "            color:  #000000;\n",
       "        }    #T_1d5540e2_5b99_11ec_b5ce_38f9d3700188row1_col5 {\n",
       "            background-color:  #6fa7ce;\n",
       "            color:  #000000;\n",
       "        }    #T_1d5540e2_5b99_11ec_b5ce_38f9d3700188row1_col6 {\n",
       "            background-color:  #045b8e;\n",
       "            color:  #f1f1f1;\n",
       "        }    #T_1d5540e2_5b99_11ec_b5ce_38f9d3700188row1_col7 {\n",
       "            background-color:  #045483;\n",
       "            color:  #f1f1f1;\n",
       "        }    #T_1d5540e2_5b99_11ec_b5ce_38f9d3700188row2_col0 {\n",
       "            background-color:  #73a9cf;\n",
       "            color:  #000000;\n",
       "        }    #T_1d5540e2_5b99_11ec_b5ce_38f9d3700188row2_col5 {\n",
       "            background-color:  #023858;\n",
       "            color:  #f1f1f1;\n",
       "        }    #T_1d5540e2_5b99_11ec_b5ce_38f9d3700188row2_col6 {\n",
       "            background-color:  #023858;\n",
       "            color:  #f1f1f1;\n",
       "        }    #T_1d5540e2_5b99_11ec_b5ce_38f9d3700188row2_col7 {\n",
       "            background-color:  #023858;\n",
       "            color:  #f1f1f1;\n",
       "        }    #T_1d5540e2_5b99_11ec_b5ce_38f9d3700188row3_col0 {\n",
       "            background-color:  #056faf;\n",
       "            color:  #f1f1f1;\n",
       "        }    #T_1d5540e2_5b99_11ec_b5ce_38f9d3700188row3_col5 {\n",
       "            background-color:  #fff7fb;\n",
       "            color:  #000000;\n",
       "        }    #T_1d5540e2_5b99_11ec_b5ce_38f9d3700188row3_col6 {\n",
       "            background-color:  #fff7fb;\n",
       "            color:  #000000;\n",
       "        }    #T_1d5540e2_5b99_11ec_b5ce_38f9d3700188row3_col7 {\n",
       "            background-color:  #fff7fb;\n",
       "            color:  #000000;\n",
       "        }    #T_1d5540e2_5b99_11ec_b5ce_38f9d3700188row4_col0 {\n",
       "            background-color:  #023858;\n",
       "            color:  #f1f1f1;\n",
       "        }    #T_1d5540e2_5b99_11ec_b5ce_38f9d3700188row4_col5 {\n",
       "            background-color:  #2383ba;\n",
       "            color:  #000000;\n",
       "        }    #T_1d5540e2_5b99_11ec_b5ce_38f9d3700188row4_col6 {\n",
       "            background-color:  #5a9ec9;\n",
       "            color:  #000000;\n",
       "        }    #T_1d5540e2_5b99_11ec_b5ce_38f9d3700188row4_col7 {\n",
       "            background-color:  #348ebf;\n",
       "            color:  #000000;\n",
       "        }</style><table id=\"T_1d5540e2_5b99_11ec_b5ce_38f9d3700188\" ><thead>    <tr>        <th class=\"blank level0\" ></th>        <th class=\"col_heading level0 col0\" >Unnamed: 0</th>        <th class=\"col_heading level0 col1\" >race/ethnicity</th>        <th class=\"col_heading level0 col2\" >parental level of education</th>        <th class=\"col_heading level0 col3\" >lunch</th>        <th class=\"col_heading level0 col4\" >test preparation course</th>        <th class=\"col_heading level0 col5\" >math percentage</th>        <th class=\"col_heading level0 col6\" >reading score percentage</th>        <th class=\"col_heading level0 col7\" >writing score percentage</th>        <th class=\"col_heading level0 col8\" >sex</th>    </tr></thead><tbody>\n",
       "                <tr>\n",
       "                        <th id=\"T_1d5540e2_5b99_11ec_b5ce_38f9d3700188level0_row0\" class=\"row_heading level0 row0\" >0</th>\n",
       "                        <td id=\"T_1d5540e2_5b99_11ec_b5ce_38f9d3700188row0_col0\" class=\"data row0 col0\" >0</td>\n",
       "                        <td id=\"T_1d5540e2_5b99_11ec_b5ce_38f9d3700188row0_col1\" class=\"data row0 col1\" >group B</td>\n",
       "                        <td id=\"T_1d5540e2_5b99_11ec_b5ce_38f9d3700188row0_col2\" class=\"data row0 col2\" >bachelor's degree</td>\n",
       "                        <td id=\"T_1d5540e2_5b99_11ec_b5ce_38f9d3700188row0_col3\" class=\"data row0 col3\" >standard</td>\n",
       "                        <td id=\"T_1d5540e2_5b99_11ec_b5ce_38f9d3700188row0_col4\" class=\"data row0 col4\" >none</td>\n",
       "                        <td id=\"T_1d5540e2_5b99_11ec_b5ce_38f9d3700188row0_col5\" class=\"data row0 col5\" >0.720000</td>\n",
       "                        <td id=\"T_1d5540e2_5b99_11ec_b5ce_38f9d3700188row0_col6\" class=\"data row0 col6\" >0.720000</td>\n",
       "                        <td id=\"T_1d5540e2_5b99_11ec_b5ce_38f9d3700188row0_col7\" class=\"data row0 col7\" >0.740000</td>\n",
       "                        <td id=\"T_1d5540e2_5b99_11ec_b5ce_38f9d3700188row0_col8\" class=\"data row0 col8\" >F</td>\n",
       "            </tr>\n",
       "            <tr>\n",
       "                        <th id=\"T_1d5540e2_5b99_11ec_b5ce_38f9d3700188level0_row1\" class=\"row_heading level0 row1\" >1</th>\n",
       "                        <td id=\"T_1d5540e2_5b99_11ec_b5ce_38f9d3700188row1_col0\" class=\"data row1 col0\" >1</td>\n",
       "                        <td id=\"T_1d5540e2_5b99_11ec_b5ce_38f9d3700188row1_col1\" class=\"data row1 col1\" >group C</td>\n",
       "                        <td id=\"T_1d5540e2_5b99_11ec_b5ce_38f9d3700188row1_col2\" class=\"data row1 col2\" >some college</td>\n",
       "                        <td id=\"T_1d5540e2_5b99_11ec_b5ce_38f9d3700188row1_col3\" class=\"data row1 col3\" >standard</td>\n",
       "                        <td id=\"T_1d5540e2_5b99_11ec_b5ce_38f9d3700188row1_col4\" class=\"data row1 col4\" >completed</td>\n",
       "                        <td id=\"T_1d5540e2_5b99_11ec_b5ce_38f9d3700188row1_col5\" class=\"data row1 col5\" >0.690000</td>\n",
       "                        <td id=\"T_1d5540e2_5b99_11ec_b5ce_38f9d3700188row1_col6\" class=\"data row1 col6\" >0.900000</td>\n",
       "                        <td id=\"T_1d5540e2_5b99_11ec_b5ce_38f9d3700188row1_col7\" class=\"data row1 col7\" >0.880000</td>\n",
       "                        <td id=\"T_1d5540e2_5b99_11ec_b5ce_38f9d3700188row1_col8\" class=\"data row1 col8\" >F</td>\n",
       "            </tr>\n",
       "            <tr>\n",
       "                        <th id=\"T_1d5540e2_5b99_11ec_b5ce_38f9d3700188level0_row2\" class=\"row_heading level0 row2\" >2</th>\n",
       "                        <td id=\"T_1d5540e2_5b99_11ec_b5ce_38f9d3700188row2_col0\" class=\"data row2 col0\" >2</td>\n",
       "                        <td id=\"T_1d5540e2_5b99_11ec_b5ce_38f9d3700188row2_col1\" class=\"data row2 col1\" >group B</td>\n",
       "                        <td id=\"T_1d5540e2_5b99_11ec_b5ce_38f9d3700188row2_col2\" class=\"data row2 col2\" >master's degree</td>\n",
       "                        <td id=\"T_1d5540e2_5b99_11ec_b5ce_38f9d3700188row2_col3\" class=\"data row2 col3\" >standard</td>\n",
       "                        <td id=\"T_1d5540e2_5b99_11ec_b5ce_38f9d3700188row2_col4\" class=\"data row2 col4\" >none</td>\n",
       "                        <td id=\"T_1d5540e2_5b99_11ec_b5ce_38f9d3700188row2_col5\" class=\"data row2 col5\" >0.900000</td>\n",
       "                        <td id=\"T_1d5540e2_5b99_11ec_b5ce_38f9d3700188row2_col6\" class=\"data row2 col6\" >0.950000</td>\n",
       "                        <td id=\"T_1d5540e2_5b99_11ec_b5ce_38f9d3700188row2_col7\" class=\"data row2 col7\" >0.930000</td>\n",
       "                        <td id=\"T_1d5540e2_5b99_11ec_b5ce_38f9d3700188row2_col8\" class=\"data row2 col8\" >F</td>\n",
       "            </tr>\n",
       "            <tr>\n",
       "                        <th id=\"T_1d5540e2_5b99_11ec_b5ce_38f9d3700188level0_row3\" class=\"row_heading level0 row3\" >3</th>\n",
       "                        <td id=\"T_1d5540e2_5b99_11ec_b5ce_38f9d3700188row3_col0\" class=\"data row3 col0\" >3</td>\n",
       "                        <td id=\"T_1d5540e2_5b99_11ec_b5ce_38f9d3700188row3_col1\" class=\"data row3 col1\" >group A</td>\n",
       "                        <td id=\"T_1d5540e2_5b99_11ec_b5ce_38f9d3700188row3_col2\" class=\"data row3 col2\" >associate's degree</td>\n",
       "                        <td id=\"T_1d5540e2_5b99_11ec_b5ce_38f9d3700188row3_col3\" class=\"data row3 col3\" >free/reduced</td>\n",
       "                        <td id=\"T_1d5540e2_5b99_11ec_b5ce_38f9d3700188row3_col4\" class=\"data row3 col4\" >none</td>\n",
       "                        <td id=\"T_1d5540e2_5b99_11ec_b5ce_38f9d3700188row3_col5\" class=\"data row3 col5\" >0.470000</td>\n",
       "                        <td id=\"T_1d5540e2_5b99_11ec_b5ce_38f9d3700188row3_col6\" class=\"data row3 col6\" >0.570000</td>\n",
       "                        <td id=\"T_1d5540e2_5b99_11ec_b5ce_38f9d3700188row3_col7\" class=\"data row3 col7\" >0.440000</td>\n",
       "                        <td id=\"T_1d5540e2_5b99_11ec_b5ce_38f9d3700188row3_col8\" class=\"data row3 col8\" >M</td>\n",
       "            </tr>\n",
       "            <tr>\n",
       "                        <th id=\"T_1d5540e2_5b99_11ec_b5ce_38f9d3700188level0_row4\" class=\"row_heading level0 row4\" >4</th>\n",
       "                        <td id=\"T_1d5540e2_5b99_11ec_b5ce_38f9d3700188row4_col0\" class=\"data row4 col0\" >4</td>\n",
       "                        <td id=\"T_1d5540e2_5b99_11ec_b5ce_38f9d3700188row4_col1\" class=\"data row4 col1\" >group C</td>\n",
       "                        <td id=\"T_1d5540e2_5b99_11ec_b5ce_38f9d3700188row4_col2\" class=\"data row4 col2\" >some college</td>\n",
       "                        <td id=\"T_1d5540e2_5b99_11ec_b5ce_38f9d3700188row4_col3\" class=\"data row4 col3\" >standard</td>\n",
       "                        <td id=\"T_1d5540e2_5b99_11ec_b5ce_38f9d3700188row4_col4\" class=\"data row4 col4\" >none</td>\n",
       "                        <td id=\"T_1d5540e2_5b99_11ec_b5ce_38f9d3700188row4_col5\" class=\"data row4 col5\" >0.760000</td>\n",
       "                        <td id=\"T_1d5540e2_5b99_11ec_b5ce_38f9d3700188row4_col6\" class=\"data row4 col6\" >0.780000</td>\n",
       "                        <td id=\"T_1d5540e2_5b99_11ec_b5ce_38f9d3700188row4_col7\" class=\"data row4 col7\" >0.750000</td>\n",
       "                        <td id=\"T_1d5540e2_5b99_11ec_b5ce_38f9d3700188row4_col8\" class=\"data row4 col8\" >M</td>\n",
       "            </tr>\n",
       "    </tbody></table>"
      ],
      "text/plain": [
       "<pandas.io.formats.style.Styler at 0x7fbc6dbf9a60>"
      ]
     },
     "execution_count": 2,
     "metadata": {},
     "output_type": "execute_result"
    }
   ],
   "source": [
    "df = pd.read_csv('Student Performance new.csv')\n",
    "df.head().style.background_gradient(axis=0)"
   ]
  },
  {
   "cell_type": "code",
   "execution_count": 3,
   "metadata": {},
   "outputs": [
    {
     "data": {
      "text/plain": [
       "Index(['Unnamed: 0', 'race/ethnicity', 'parental level of education', 'lunch',\n",
       "       'test preparation course', 'math percentage',\n",
       "       'reading score percentage', 'writing score percentage', 'sex'],\n",
       "      dtype='object')"
      ]
     },
     "execution_count": 3,
     "metadata": {},
     "output_type": "execute_result"
    }
   ],
   "source": [
    "df.columns"
   ]
  },
  {
   "cell_type": "code",
   "execution_count": 4,
   "metadata": {},
   "outputs": [
    {
     "data": {
      "text/plain": [
       "Unnamed: 0                     0\n",
       "race/ethnicity                 0\n",
       "parental level of education    0\n",
       "lunch                          0\n",
       "test preparation course        0\n",
       "math percentage                0\n",
       "reading score percentage       0\n",
       "writing score percentage       0\n",
       "sex                            0\n",
       "dtype: int64"
      ]
     },
     "execution_count": 4,
     "metadata": {},
     "output_type": "execute_result"
    }
   ],
   "source": [
    "df.isnull().sum()"
   ]
  },
  {
   "cell_type": "markdown",
   "metadata": {},
   "source": [
    "### Addition of dummy columns"
   ]
  },
  {
   "cell_type": "code",
   "execution_count": 5,
   "metadata": {},
   "outputs": [
    {
     "data": {
      "text/html": [
       "<style  type=\"text/css\" >\n",
       "    #T_1d5fe380_5b99_11ec_b5ce_38f9d3700188row0_col0 {\n",
       "            background-color:  #fff7fb;\n",
       "            color:  #000000;\n",
       "        }    #T_1d5fe380_5b99_11ec_b5ce_38f9d3700188row0_col3 {\n",
       "            background-color:  #4c99c5;\n",
       "            color:  #000000;\n",
       "        }    #T_1d5fe380_5b99_11ec_b5ce_38f9d3700188row0_col4 {\n",
       "            background-color:  #9ebad9;\n",
       "            color:  #000000;\n",
       "        }    #T_1d5fe380_5b99_11ec_b5ce_38f9d3700188row0_col5 {\n",
       "            background-color:  #3d93c2;\n",
       "            color:  #000000;\n",
       "        }    #T_1d5fe380_5b99_11ec_b5ce_38f9d3700188row0_col7 {\n",
       "            background-color:  #023858;\n",
       "            color:  #f1f1f1;\n",
       "        }    #T_1d5fe380_5b99_11ec_b5ce_38f9d3700188row0_col8 {\n",
       "            background-color:  #fff7fb;\n",
       "            color:  #000000;\n",
       "        }    #T_1d5fe380_5b99_11ec_b5ce_38f9d3700188row0_col9 {\n",
       "            background-color:  #fff7fb;\n",
       "            color:  #000000;\n",
       "        }    #T_1d5fe380_5b99_11ec_b5ce_38f9d3700188row0_col10 {\n",
       "            background-color:  #fff7fb;\n",
       "            color:  #000000;\n",
       "        }    #T_1d5fe380_5b99_11ec_b5ce_38f9d3700188row0_col11 {\n",
       "            background-color:  #fff7fb;\n",
       "            color:  #000000;\n",
       "        }    #T_1d5fe380_5b99_11ec_b5ce_38f9d3700188row0_col12 {\n",
       "            background-color:  #023858;\n",
       "            color:  #f1f1f1;\n",
       "        }    #T_1d5fe380_5b99_11ec_b5ce_38f9d3700188row1_col0 {\n",
       "            background-color:  #d0d1e6;\n",
       "            color:  #000000;\n",
       "        }    #T_1d5fe380_5b99_11ec_b5ce_38f9d3700188row1_col3 {\n",
       "            background-color:  #6fa7ce;\n",
       "            color:  #000000;\n",
       "        }    #T_1d5fe380_5b99_11ec_b5ce_38f9d3700188row1_col4 {\n",
       "            background-color:  #045b8e;\n",
       "            color:  #f1f1f1;\n",
       "        }    #T_1d5fe380_5b99_11ec_b5ce_38f9d3700188row1_col5 {\n",
       "            background-color:  #045483;\n",
       "            color:  #f1f1f1;\n",
       "        }    #T_1d5fe380_5b99_11ec_b5ce_38f9d3700188row1_col7 {\n",
       "            background-color:  #fff7fb;\n",
       "            color:  #000000;\n",
       "        }    #T_1d5fe380_5b99_11ec_b5ce_38f9d3700188row1_col8 {\n",
       "            background-color:  #fff7fb;\n",
       "            color:  #000000;\n",
       "        }    #T_1d5fe380_5b99_11ec_b5ce_38f9d3700188row1_col9 {\n",
       "            background-color:  #fff7fb;\n",
       "            color:  #000000;\n",
       "        }    #T_1d5fe380_5b99_11ec_b5ce_38f9d3700188row1_col10 {\n",
       "            background-color:  #023858;\n",
       "            color:  #f1f1f1;\n",
       "        }    #T_1d5fe380_5b99_11ec_b5ce_38f9d3700188row1_col11 {\n",
       "            background-color:  #fff7fb;\n",
       "            color:  #000000;\n",
       "        }    #T_1d5fe380_5b99_11ec_b5ce_38f9d3700188row1_col12 {\n",
       "            background-color:  #fff7fb;\n",
       "            color:  #000000;\n",
       "        }    #T_1d5fe380_5b99_11ec_b5ce_38f9d3700188row2_col0 {\n",
       "            background-color:  #73a9cf;\n",
       "            color:  #000000;\n",
       "        }    #T_1d5fe380_5b99_11ec_b5ce_38f9d3700188row2_col3 {\n",
       "            background-color:  #023858;\n",
       "            color:  #f1f1f1;\n",
       "        }    #T_1d5fe380_5b99_11ec_b5ce_38f9d3700188row2_col4 {\n",
       "            background-color:  #023858;\n",
       "            color:  #f1f1f1;\n",
       "        }    #T_1d5fe380_5b99_11ec_b5ce_38f9d3700188row2_col5 {\n",
       "            background-color:  #023858;\n",
       "            color:  #f1f1f1;\n",
       "        }    #T_1d5fe380_5b99_11ec_b5ce_38f9d3700188row2_col7 {\n",
       "            background-color:  #fff7fb;\n",
       "            color:  #000000;\n",
       "        }    #T_1d5fe380_5b99_11ec_b5ce_38f9d3700188row2_col8 {\n",
       "            background-color:  #fff7fb;\n",
       "            color:  #000000;\n",
       "        }    #T_1d5fe380_5b99_11ec_b5ce_38f9d3700188row2_col9 {\n",
       "            background-color:  #023858;\n",
       "            color:  #f1f1f1;\n",
       "        }    #T_1d5fe380_5b99_11ec_b5ce_38f9d3700188row2_col10 {\n",
       "            background-color:  #fff7fb;\n",
       "            color:  #000000;\n",
       "        }    #T_1d5fe380_5b99_11ec_b5ce_38f9d3700188row2_col11 {\n",
       "            background-color:  #fff7fb;\n",
       "            color:  #000000;\n",
       "        }    #T_1d5fe380_5b99_11ec_b5ce_38f9d3700188row2_col12 {\n",
       "            background-color:  #023858;\n",
       "            color:  #f1f1f1;\n",
       "        }    #T_1d5fe380_5b99_11ec_b5ce_38f9d3700188row3_col0 {\n",
       "            background-color:  #056faf;\n",
       "            color:  #f1f1f1;\n",
       "        }    #T_1d5fe380_5b99_11ec_b5ce_38f9d3700188row3_col3 {\n",
       "            background-color:  #fff7fb;\n",
       "            color:  #000000;\n",
       "        }    #T_1d5fe380_5b99_11ec_b5ce_38f9d3700188row3_col4 {\n",
       "            background-color:  #fff7fb;\n",
       "            color:  #000000;\n",
       "        }    #T_1d5fe380_5b99_11ec_b5ce_38f9d3700188row3_col5 {\n",
       "            background-color:  #fff7fb;\n",
       "            color:  #000000;\n",
       "        }    #T_1d5fe380_5b99_11ec_b5ce_38f9d3700188row3_col7 {\n",
       "            background-color:  #fff7fb;\n",
       "            color:  #000000;\n",
       "        }    #T_1d5fe380_5b99_11ec_b5ce_38f9d3700188row3_col8 {\n",
       "            background-color:  #fff7fb;\n",
       "            color:  #000000;\n",
       "        }    #T_1d5fe380_5b99_11ec_b5ce_38f9d3700188row3_col9 {\n",
       "            background-color:  #fff7fb;\n",
       "            color:  #000000;\n",
       "        }    #T_1d5fe380_5b99_11ec_b5ce_38f9d3700188row3_col10 {\n",
       "            background-color:  #fff7fb;\n",
       "            color:  #000000;\n",
       "        }    #T_1d5fe380_5b99_11ec_b5ce_38f9d3700188row3_col11 {\n",
       "            background-color:  #fff7fb;\n",
       "            color:  #000000;\n",
       "        }    #T_1d5fe380_5b99_11ec_b5ce_38f9d3700188row3_col12 {\n",
       "            background-color:  #023858;\n",
       "            color:  #f1f1f1;\n",
       "        }    #T_1d5fe380_5b99_11ec_b5ce_38f9d3700188row4_col0 {\n",
       "            background-color:  #023858;\n",
       "            color:  #f1f1f1;\n",
       "        }    #T_1d5fe380_5b99_11ec_b5ce_38f9d3700188row4_col3 {\n",
       "            background-color:  #2383ba;\n",
       "            color:  #000000;\n",
       "        }    #T_1d5fe380_5b99_11ec_b5ce_38f9d3700188row4_col4 {\n",
       "            background-color:  #5a9ec9;\n",
       "            color:  #000000;\n",
       "        }    #T_1d5fe380_5b99_11ec_b5ce_38f9d3700188row4_col5 {\n",
       "            background-color:  #348ebf;\n",
       "            color:  #000000;\n",
       "        }    #T_1d5fe380_5b99_11ec_b5ce_38f9d3700188row4_col7 {\n",
       "            background-color:  #fff7fb;\n",
       "            color:  #000000;\n",
       "        }    #T_1d5fe380_5b99_11ec_b5ce_38f9d3700188row4_col8 {\n",
       "            background-color:  #fff7fb;\n",
       "            color:  #000000;\n",
       "        }    #T_1d5fe380_5b99_11ec_b5ce_38f9d3700188row4_col9 {\n",
       "            background-color:  #fff7fb;\n",
       "            color:  #000000;\n",
       "        }    #T_1d5fe380_5b99_11ec_b5ce_38f9d3700188row4_col10 {\n",
       "            background-color:  #023858;\n",
       "            color:  #f1f1f1;\n",
       "        }    #T_1d5fe380_5b99_11ec_b5ce_38f9d3700188row4_col11 {\n",
       "            background-color:  #fff7fb;\n",
       "            color:  #000000;\n",
       "        }    #T_1d5fe380_5b99_11ec_b5ce_38f9d3700188row4_col12 {\n",
       "            background-color:  #023858;\n",
       "            color:  #f1f1f1;\n",
       "        }</style><table id=\"T_1d5fe380_5b99_11ec_b5ce_38f9d3700188\" ><thead>    <tr>        <th class=\"blank level0\" ></th>        <th class=\"col_heading level0 col0\" >Unnamed: 0</th>        <th class=\"col_heading level0 col1\" >race/ethnicity</th>        <th class=\"col_heading level0 col2\" >lunch</th>        <th class=\"col_heading level0 col3\" >math percentage</th>        <th class=\"col_heading level0 col4\" >reading score percentage</th>        <th class=\"col_heading level0 col5\" >writing score percentage</th>        <th class=\"col_heading level0 col6\" >sex</th>        <th class=\"col_heading level0 col7\" >Dumy*bachelor's degree</th>        <th class=\"col_heading level0 col8\" >Dumy*high school</th>        <th class=\"col_heading level0 col9\" >Dumy*master's degree</th>        <th class=\"col_heading level0 col10\" >Dumy*some college</th>        <th class=\"col_heading level0 col11\" >Dumy*some high school</th>        <th class=\"col_heading level0 col12\" >Dumy*none</th>    </tr></thead><tbody>\n",
       "                <tr>\n",
       "                        <th id=\"T_1d5fe380_5b99_11ec_b5ce_38f9d3700188level0_row0\" class=\"row_heading level0 row0\" >0</th>\n",
       "                        <td id=\"T_1d5fe380_5b99_11ec_b5ce_38f9d3700188row0_col0\" class=\"data row0 col0\" >0</td>\n",
       "                        <td id=\"T_1d5fe380_5b99_11ec_b5ce_38f9d3700188row0_col1\" class=\"data row0 col1\" >group B</td>\n",
       "                        <td id=\"T_1d5fe380_5b99_11ec_b5ce_38f9d3700188row0_col2\" class=\"data row0 col2\" >standard</td>\n",
       "                        <td id=\"T_1d5fe380_5b99_11ec_b5ce_38f9d3700188row0_col3\" class=\"data row0 col3\" >0.720000</td>\n",
       "                        <td id=\"T_1d5fe380_5b99_11ec_b5ce_38f9d3700188row0_col4\" class=\"data row0 col4\" >0.720000</td>\n",
       "                        <td id=\"T_1d5fe380_5b99_11ec_b5ce_38f9d3700188row0_col5\" class=\"data row0 col5\" >0.740000</td>\n",
       "                        <td id=\"T_1d5fe380_5b99_11ec_b5ce_38f9d3700188row0_col6\" class=\"data row0 col6\" >F</td>\n",
       "                        <td id=\"T_1d5fe380_5b99_11ec_b5ce_38f9d3700188row0_col7\" class=\"data row0 col7\" >1</td>\n",
       "                        <td id=\"T_1d5fe380_5b99_11ec_b5ce_38f9d3700188row0_col8\" class=\"data row0 col8\" >0</td>\n",
       "                        <td id=\"T_1d5fe380_5b99_11ec_b5ce_38f9d3700188row0_col9\" class=\"data row0 col9\" >0</td>\n",
       "                        <td id=\"T_1d5fe380_5b99_11ec_b5ce_38f9d3700188row0_col10\" class=\"data row0 col10\" >0</td>\n",
       "                        <td id=\"T_1d5fe380_5b99_11ec_b5ce_38f9d3700188row0_col11\" class=\"data row0 col11\" >0</td>\n",
       "                        <td id=\"T_1d5fe380_5b99_11ec_b5ce_38f9d3700188row0_col12\" class=\"data row0 col12\" >1</td>\n",
       "            </tr>\n",
       "            <tr>\n",
       "                        <th id=\"T_1d5fe380_5b99_11ec_b5ce_38f9d3700188level0_row1\" class=\"row_heading level0 row1\" >1</th>\n",
       "                        <td id=\"T_1d5fe380_5b99_11ec_b5ce_38f9d3700188row1_col0\" class=\"data row1 col0\" >1</td>\n",
       "                        <td id=\"T_1d5fe380_5b99_11ec_b5ce_38f9d3700188row1_col1\" class=\"data row1 col1\" >group C</td>\n",
       "                        <td id=\"T_1d5fe380_5b99_11ec_b5ce_38f9d3700188row1_col2\" class=\"data row1 col2\" >standard</td>\n",
       "                        <td id=\"T_1d5fe380_5b99_11ec_b5ce_38f9d3700188row1_col3\" class=\"data row1 col3\" >0.690000</td>\n",
       "                        <td id=\"T_1d5fe380_5b99_11ec_b5ce_38f9d3700188row1_col4\" class=\"data row1 col4\" >0.900000</td>\n",
       "                        <td id=\"T_1d5fe380_5b99_11ec_b5ce_38f9d3700188row1_col5\" class=\"data row1 col5\" >0.880000</td>\n",
       "                        <td id=\"T_1d5fe380_5b99_11ec_b5ce_38f9d3700188row1_col6\" class=\"data row1 col6\" >F</td>\n",
       "                        <td id=\"T_1d5fe380_5b99_11ec_b5ce_38f9d3700188row1_col7\" class=\"data row1 col7\" >0</td>\n",
       "                        <td id=\"T_1d5fe380_5b99_11ec_b5ce_38f9d3700188row1_col8\" class=\"data row1 col8\" >0</td>\n",
       "                        <td id=\"T_1d5fe380_5b99_11ec_b5ce_38f9d3700188row1_col9\" class=\"data row1 col9\" >0</td>\n",
       "                        <td id=\"T_1d5fe380_5b99_11ec_b5ce_38f9d3700188row1_col10\" class=\"data row1 col10\" >1</td>\n",
       "                        <td id=\"T_1d5fe380_5b99_11ec_b5ce_38f9d3700188row1_col11\" class=\"data row1 col11\" >0</td>\n",
       "                        <td id=\"T_1d5fe380_5b99_11ec_b5ce_38f9d3700188row1_col12\" class=\"data row1 col12\" >0</td>\n",
       "            </tr>\n",
       "            <tr>\n",
       "                        <th id=\"T_1d5fe380_5b99_11ec_b5ce_38f9d3700188level0_row2\" class=\"row_heading level0 row2\" >2</th>\n",
       "                        <td id=\"T_1d5fe380_5b99_11ec_b5ce_38f9d3700188row2_col0\" class=\"data row2 col0\" >2</td>\n",
       "                        <td id=\"T_1d5fe380_5b99_11ec_b5ce_38f9d3700188row2_col1\" class=\"data row2 col1\" >group B</td>\n",
       "                        <td id=\"T_1d5fe380_5b99_11ec_b5ce_38f9d3700188row2_col2\" class=\"data row2 col2\" >standard</td>\n",
       "                        <td id=\"T_1d5fe380_5b99_11ec_b5ce_38f9d3700188row2_col3\" class=\"data row2 col3\" >0.900000</td>\n",
       "                        <td id=\"T_1d5fe380_5b99_11ec_b5ce_38f9d3700188row2_col4\" class=\"data row2 col4\" >0.950000</td>\n",
       "                        <td id=\"T_1d5fe380_5b99_11ec_b5ce_38f9d3700188row2_col5\" class=\"data row2 col5\" >0.930000</td>\n",
       "                        <td id=\"T_1d5fe380_5b99_11ec_b5ce_38f9d3700188row2_col6\" class=\"data row2 col6\" >F</td>\n",
       "                        <td id=\"T_1d5fe380_5b99_11ec_b5ce_38f9d3700188row2_col7\" class=\"data row2 col7\" >0</td>\n",
       "                        <td id=\"T_1d5fe380_5b99_11ec_b5ce_38f9d3700188row2_col8\" class=\"data row2 col8\" >0</td>\n",
       "                        <td id=\"T_1d5fe380_5b99_11ec_b5ce_38f9d3700188row2_col9\" class=\"data row2 col9\" >1</td>\n",
       "                        <td id=\"T_1d5fe380_5b99_11ec_b5ce_38f9d3700188row2_col10\" class=\"data row2 col10\" >0</td>\n",
       "                        <td id=\"T_1d5fe380_5b99_11ec_b5ce_38f9d3700188row2_col11\" class=\"data row2 col11\" >0</td>\n",
       "                        <td id=\"T_1d5fe380_5b99_11ec_b5ce_38f9d3700188row2_col12\" class=\"data row2 col12\" >1</td>\n",
       "            </tr>\n",
       "            <tr>\n",
       "                        <th id=\"T_1d5fe380_5b99_11ec_b5ce_38f9d3700188level0_row3\" class=\"row_heading level0 row3\" >3</th>\n",
       "                        <td id=\"T_1d5fe380_5b99_11ec_b5ce_38f9d3700188row3_col0\" class=\"data row3 col0\" >3</td>\n",
       "                        <td id=\"T_1d5fe380_5b99_11ec_b5ce_38f9d3700188row3_col1\" class=\"data row3 col1\" >group A</td>\n",
       "                        <td id=\"T_1d5fe380_5b99_11ec_b5ce_38f9d3700188row3_col2\" class=\"data row3 col2\" >free/reduced</td>\n",
       "                        <td id=\"T_1d5fe380_5b99_11ec_b5ce_38f9d3700188row3_col3\" class=\"data row3 col3\" >0.470000</td>\n",
       "                        <td id=\"T_1d5fe380_5b99_11ec_b5ce_38f9d3700188row3_col4\" class=\"data row3 col4\" >0.570000</td>\n",
       "                        <td id=\"T_1d5fe380_5b99_11ec_b5ce_38f9d3700188row3_col5\" class=\"data row3 col5\" >0.440000</td>\n",
       "                        <td id=\"T_1d5fe380_5b99_11ec_b5ce_38f9d3700188row3_col6\" class=\"data row3 col6\" >M</td>\n",
       "                        <td id=\"T_1d5fe380_5b99_11ec_b5ce_38f9d3700188row3_col7\" class=\"data row3 col7\" >0</td>\n",
       "                        <td id=\"T_1d5fe380_5b99_11ec_b5ce_38f9d3700188row3_col8\" class=\"data row3 col8\" >0</td>\n",
       "                        <td id=\"T_1d5fe380_5b99_11ec_b5ce_38f9d3700188row3_col9\" class=\"data row3 col9\" >0</td>\n",
       "                        <td id=\"T_1d5fe380_5b99_11ec_b5ce_38f9d3700188row3_col10\" class=\"data row3 col10\" >0</td>\n",
       "                        <td id=\"T_1d5fe380_5b99_11ec_b5ce_38f9d3700188row3_col11\" class=\"data row3 col11\" >0</td>\n",
       "                        <td id=\"T_1d5fe380_5b99_11ec_b5ce_38f9d3700188row3_col12\" class=\"data row3 col12\" >1</td>\n",
       "            </tr>\n",
       "            <tr>\n",
       "                        <th id=\"T_1d5fe380_5b99_11ec_b5ce_38f9d3700188level0_row4\" class=\"row_heading level0 row4\" >4</th>\n",
       "                        <td id=\"T_1d5fe380_5b99_11ec_b5ce_38f9d3700188row4_col0\" class=\"data row4 col0\" >4</td>\n",
       "                        <td id=\"T_1d5fe380_5b99_11ec_b5ce_38f9d3700188row4_col1\" class=\"data row4 col1\" >group C</td>\n",
       "                        <td id=\"T_1d5fe380_5b99_11ec_b5ce_38f9d3700188row4_col2\" class=\"data row4 col2\" >standard</td>\n",
       "                        <td id=\"T_1d5fe380_5b99_11ec_b5ce_38f9d3700188row4_col3\" class=\"data row4 col3\" >0.760000</td>\n",
       "                        <td id=\"T_1d5fe380_5b99_11ec_b5ce_38f9d3700188row4_col4\" class=\"data row4 col4\" >0.780000</td>\n",
       "                        <td id=\"T_1d5fe380_5b99_11ec_b5ce_38f9d3700188row4_col5\" class=\"data row4 col5\" >0.750000</td>\n",
       "                        <td id=\"T_1d5fe380_5b99_11ec_b5ce_38f9d3700188row4_col6\" class=\"data row4 col6\" >M</td>\n",
       "                        <td id=\"T_1d5fe380_5b99_11ec_b5ce_38f9d3700188row4_col7\" class=\"data row4 col7\" >0</td>\n",
       "                        <td id=\"T_1d5fe380_5b99_11ec_b5ce_38f9d3700188row4_col8\" class=\"data row4 col8\" >0</td>\n",
       "                        <td id=\"T_1d5fe380_5b99_11ec_b5ce_38f9d3700188row4_col9\" class=\"data row4 col9\" >0</td>\n",
       "                        <td id=\"T_1d5fe380_5b99_11ec_b5ce_38f9d3700188row4_col10\" class=\"data row4 col10\" >1</td>\n",
       "                        <td id=\"T_1d5fe380_5b99_11ec_b5ce_38f9d3700188row4_col11\" class=\"data row4 col11\" >0</td>\n",
       "                        <td id=\"T_1d5fe380_5b99_11ec_b5ce_38f9d3700188row4_col12\" class=\"data row4 col12\" >1</td>\n",
       "            </tr>\n",
       "    </tbody></table>"
      ],
      "text/plain": [
       "<pandas.io.formats.style.Styler at 0x7fbc6f96cc70>"
      ]
     },
     "execution_count": 5,
     "metadata": {},
     "output_type": "execute_result"
    }
   ],
   "source": [
    "new_df = pd.get_dummies(df, columns = ['parental level of education', 'test preparation course'], \n",
    "                        drop_first=True,prefix='Dumy',prefix_sep=\"*\" )\n",
    "new_df.head().style.background_gradient(axis=0)"
   ]
  },
  {
   "cell_type": "markdown",
   "metadata": {},
   "source": [
    "### Countplot"
   ]
  },
  {
   "cell_type": "code",
   "execution_count": 6,
   "metadata": {},
   "outputs": [
    {
     "data": {
      "text/plain": [
       "<matplotlib.axes._subplots.AxesSubplot at 0x7fbc6f97edf0>"
      ]
     },
     "execution_count": 6,
     "metadata": {},
     "output_type": "execute_result"
    },
    {
     "data": {
      "image/png": "[encoded data removed]",
      "text/plain": [
       "<Figure size 432x288 with 1 Axes>"
      ]
     },
     "metadata": {
      "needs_background": "light"
     },
     "output_type": "display_data"
    }
   ],
   "source": [
    "sns.countplot(data=new_df , x='sex')"
   ]
  },
  {
   "cell_type": "markdown",
   "metadata": {},
   "source": [
    "### Scatterplots"
   ]
  },
  {
   "cell_type": "code",
   "execution_count": 7,
   "metadata": {},
   "outputs": [
    {
     "data": {
      "text/plain": [
       "<matplotlib.axes._subplots.AxesSubplot at 0x7fbc6fa9e700>"
      ]
     },
     "execution_count": 7,
     "metadata": {},
     "output_type": "execute_result"
    },
    {
     "data": {
      "image/png": "[encoded data removed]",
      "text/plain": [
       "<Figure size 432x288 with 2 Axes>"
      ]
     },
     "metadata": {
      "needs_background": "light"
     },
     "output_type": "display_data"
    }
   ],
   "source": [
    "fig, (ax1, ax2) = plt.subplots(ncols=2, sharey=False)\n",
    "sns.scatterplot(data=new_df , x='math percentage',y='reading score percentage',hue='sex', ax=ax1)\n",
    "sns.scatterplot(data=new_df , x='math percentage',y='writing score percentage',hue='sex', ax=ax2)"
   ]
  },
  {
   "cell_type": "markdown",
   "metadata": {},
   "source": [
    "### Boxplots"
   ]
  },
  {
   "cell_type": "code",
   "execution_count": 8,
   "metadata": {},
   "outputs": [
    {
     "data": {
      "text/plain": [
       "<matplotlib.axes._subplots.AxesSubplot at 0x7fbc6fb990d0>"
      ]
     },
     "execution_count": 8,
     "metadata": {},
     "output_type": "execute_result"
    },
    {
     "data": {
      "image/png": "[encoded data removed]",
      "text/plain": [
       "<Figure size 432x288 with 2 Axes>"
      ]
     },
     "metadata": {
      "needs_background": "light"
     },
     "output_type": "display_data"
    }
   ],
   "source": [
    "fig, (ax3, ax4) = plt.subplots(ncols=2, sharey=False)\n",
    "sns.boxplot(data=new_df , x='sex',y='math percentage', ax=ax3)\n",
    "sns.boxplot(data=new_df , x='sex',y='writing score percentage', ax=ax4)"
   ]
  },
  {
   "cell_type": "markdown",
   "metadata": {},
   "source": [
    "### Processing of data "
   ]
  },
  {
   "cell_type": "code",
   "execution_count": 9,
   "metadata": {},
   "outputs": [],
   "source": [
    "X = new_df.drop(['sex', 'race/ethnicity', 'lunch'],axis=1)\n",
    "y = new_df['sex']"
   ]
  },
  {
   "cell_type": "code",
   "execution_count": 10,
   "metadata": {},
   "outputs": [],
   "source": [
    "from sklearn.model_selection import train_test_split"
   ]
  },
  {
   "cell_type": "code",
   "execution_count": 11,
   "metadata": {},
   "outputs": [],
   "source": [
    "X_train, X_test, y_train, y_test = train_test_split(X, y, test_size=0.34, random_state=97)"
   ]
  },
  {
   "cell_type": "code",
   "execution_count": 12,
   "metadata": {},
   "outputs": [],
   "source": [
    "from sklearn.preprocessing import StandardScaler"
   ]
  },
  {
   "cell_type": "code",
   "execution_count": 13,
   "metadata": {},
   "outputs": [],
   "source": [
    "scaler = StandardScaler()"
   ]
  },
  {
   "cell_type": "code",
   "execution_count": 14,
   "metadata": {},
   "outputs": [
    {
     "data": {
      "text/plain": [
       "StandardScaler()"
      ]
     },
     "execution_count": 14,
     "metadata": {},
     "output_type": "execute_result"
    }
   ],
   "source": [
    "scaler.fit(X_train)"
   ]
  },
  {
   "cell_type": "code",
   "execution_count": 15,
   "metadata": {},
   "outputs": [],
   "source": [
    "scaled_x_train = scaler.transform(X_train)\n",
    "scaled_x_test = scaler.transform(X_test)"
   ]
  },
  {
   "cell_type": "markdown",
   "metadata": {},
   "source": [
    "### Performance of SVC classifier"
   ]
  },
  {
   "cell_type": "code",
   "execution_count": 16,
   "metadata": {},
   "outputs": [],
   "source": [
    "from sklearn.svm import SVC"
   ]
  },
  {
   "cell_type": "code",
   "execution_count": 17,
   "metadata": {},
   "outputs": [
    {
     "data": {
      "text/plain": [
       "GridSearchCV(estimator=SVC(), param_grid={'C': [0.001, 0.01, 0.1, 0.5, 1]})"
      ]
     },
     "execution_count": 17,
     "metadata": {},
     "output_type": "execute_result"
    }
   ],
   "source": [
    "svc = SVC()\n",
    "from sklearn.model_selection import GridSearchCV\n",
    "param_grid = {'C':[0.001,0.01,0.1,0.5,1]}\n",
    "grid = GridSearchCV(svc,param_grid)\n",
    "grid.fit(scaled_x_train,y_train)"
   ]
  },
  {
   "cell_type": "code",
   "execution_count": 18,
   "metadata": {},
   "outputs": [
    {
     "data": {
      "text/plain": [
       "{'C': 1}"
      ]
     },
     "execution_count": 18,
     "metadata": {},
     "output_type": "execute_result"
    }
   ],
   "source": [
    "grid.best_params_"
   ]
  },
  {
   "cell_type": "code",
   "execution_count": 19,
   "metadata": {},
   "outputs": [],
   "source": [
    "y_pred = grid.predict(X_test)"
   ]
  },
  {
   "cell_type": "code",
   "execution_count": 20,
   "metadata": {},
   "outputs": [],
   "source": [
    "from sklearn.metrics import accuracy_score , plot_confusion_matrix , plot_roc_curve, classification_report"
   ]
  },
  {
   "cell_type": "code",
   "execution_count": 21,
   "metadata": {},
   "outputs": [
    {
     "data": {
      "text/plain": [
       "0.5147058823529411"
      ]
     },
     "execution_count": 21,
     "metadata": {},
     "output_type": "execute_result"
    }
   ],
   "source": [
    "svc_accuracy = accuracy_score(y_test,y_pred)\n",
    "svc_accuracy"
   ]
  },
  {
   "cell_type": "code",
   "execution_count": 22,
   "metadata": {},
   "outputs": [
    {
     "name": "stdout",
     "output_type": "stream",
     "text": [
      "              precision    recall  f1-score   support\n",
      "\n",
      "           F       0.51      1.00      0.68       175\n",
      "           M       0.00      0.00      0.00       165\n",
      "\n",
      "    accuracy                           0.51       340\n",
      "   macro avg       0.26      0.50      0.34       340\n",
      "weighted avg       0.26      0.51      0.35       340\n",
      "\n"
     ]
    }
   ],
   "source": [
    "print(classification_report(y_test,y_pred, zero_division=0))"
   ]
  },
  {
   "cell_type": "markdown",
   "metadata": {},
   "source": [
    "### Performance of KNN classifier"
   ]
  },
  {
   "cell_type": "code",
   "execution_count": 23,
   "metadata": {},
   "outputs": [],
   "source": [
    "from sklearn.neighbors import KNeighborsClassifier"
   ]
  },
  {
   "cell_type": "code",
   "execution_count": 24,
   "metadata": {},
   "outputs": [],
   "source": [
    "test_error_rates = []\n",
    "for k in range(1,30):\n",
    "    knn_model = KNeighborsClassifier(n_neighbors=k)\n",
    "    knn_model.fit(scaled_x_train,y_train)\n",
    "    y_prediction = knn_model.predict(X_test)\n",
    "    test_error = 1 - accuracy_score(y_test , y_prediction)\n",
    "    test_error_rates.append(test_error)"
   ]
  },
  {
   "cell_type": "code",
   "execution_count": 25,
   "metadata": {},
   "outputs": [
    {
     "data": {
      "text/plain": [
       "Text(0.5, 0, 'K Neigbors')"
      ]
     },
     "execution_count": 25,
     "metadata": {},
     "output_type": "execute_result"
    },
    {
     "data": {
      "image/png": "[encoded data removed]",
      "text/plain": [
       "<Figure size 432x288 with 1 Axes>"
      ]
     },
     "metadata": {
      "needs_background": "light"
     },
     "output_type": "display_data"
    }
   ],
   "source": [
    "plt.plot(range(1,30),test_error_rates)\n",
    "plt.ylabel('Error Rate')\n",
    "plt.xlabel('K Neigbors')"
   ]
  },
  {
   "cell_type": "code",
   "execution_count": 26,
   "metadata": {},
   "outputs": [
    {
     "data": {
      "text/plain": [
       "KNeighborsClassifier(n_neighbors=9)"
      ]
     },
     "execution_count": 26,
     "metadata": {},
     "output_type": "execute_result"
    }
   ],
   "source": [
    "model = KNeighborsClassifier(n_neighbors=9)\n",
    "model.fit(X_train,y_train)"
   ]
  },
  {
   "cell_type": "code",
   "execution_count": 27,
   "metadata": {},
   "outputs": [],
   "source": [
    "y_predictions = model.predict(X_test)"
   ]
  },
  {
   "cell_type": "code",
   "execution_count": 28,
   "metadata": {},
   "outputs": [
    {
     "name": "stdout",
     "output_type": "stream",
     "text": [
      "              precision    recall  f1-score   support\n",
      "\n",
      "           F       0.53      0.59      0.56       175\n",
      "           M       0.51      0.45      0.48       165\n",
      "\n",
      "    accuracy                           0.52       340\n",
      "   macro avg       0.52      0.52      0.52       340\n",
      "weighted avg       0.52      0.52      0.52       340\n",
      "\n"
     ]
    }
   ],
   "source": [
    "print(classification_report(y_test,y_predictions))"
   ]
  },
  {
   "cell_type": "code",
   "execution_count": 29,
   "metadata": {},
   "outputs": [
    {
     "data": {
      "text/plain": [
       "0.5205882352941177"
      ]
     },
     "execution_count": 29,
     "metadata": {},
     "output_type": "execute_result"
    }
   ],
   "source": [
    "knn_model_accuracy = accuracy_score(y_test,y_predictions)\n",
    "knn_model_accuracy"
   ]
  },
  {
   "cell_type": "code",
   "execution_count": 30,
   "metadata": {},
   "outputs": [
    {
     "data": {
      "text/plain": [
       "<sklearn.metrics._plot.confusion_matrix.ConfusionMatrixDisplay at 0x7fbc6b3dc5e0>"
      ]
     },
     "execution_count": 30,
     "metadata": {},
     "output_type": "execute_result"
    },
    {
     "data": {
      "image/png": "[encoded data removed]",
      "text/plain": [
       "<Figure size 432x288 with 2 Axes>"
      ]
     },
     "metadata": {
      "needs_background": "light"
     },
     "output_type": "display_data"
    }
   ],
   "source": [
    "plot_confusion_matrix(model,X_test,y_test)"
   ]
  },
  {
   "cell_type": "code",
   "execution_count": 31,
   "metadata": {},
   "outputs": [
    {
     "data": {
      "text/plain": [
       "<sklearn.metrics._plot.roc_curve.RocCurveDisplay at 0x7fbc6b4af730>"
      ]
     },
     "execution_count": 31,
     "metadata": {},
     "output_type": "execute_result"
    },
    {
     "data": {
      "image/png": "[encoded data removed]",
      "text/plain": [
       "<Figure size 432x288 with 1 Axes>"
      ]
     },
     "metadata": {
      "needs_background": "light"
     },
     "output_type": "display_data"
    }
   ],
   "source": [
    "plot_roc_curve(model,X_test,y_test)"
   ]
  },
  {
   "cell_type": "markdown",
   "metadata": {},
   "source": [
    "### Performance of Logistic Regression"
   ]
  },
  {
   "cell_type": "code",
   "execution_count": 32,
   "metadata": {},
   "outputs": [],
   "source": [
    "from sklearn.linear_model import LogisticRegression"
   ]
  },
  {
   "cell_type": "code",
   "execution_count": 33,
   "metadata": {},
   "outputs": [],
   "source": [
    "log_model = LogisticRegression()"
   ]
  },
  {
   "cell_type": "code",
   "execution_count": 34,
   "metadata": {},
   "outputs": [
    {
     "data": {
      "text/plain": [
       "LogisticRegression()"
      ]
     },
     "execution_count": 34,
     "metadata": {},
     "output_type": "execute_result"
    }
   ],
   "source": [
    "log_model.fit(scaled_x_train,y_train)"
   ]
  },
  {
   "cell_type": "code",
   "execution_count": 35,
   "metadata": {},
   "outputs": [],
   "source": [
    "predections = log_model.predict(scaled_x_test)"
   ]
  },
  {
   "cell_type": "code",
   "execution_count": 36,
   "metadata": {},
   "outputs": [
    {
     "data": {
      "text/plain": [
       "0.9058823529411765"
      ]
     },
     "execution_count": 36,
     "metadata": {},
     "output_type": "execute_result"
    }
   ],
   "source": [
    "logistic_regression_model_accuracy = accuracy_score(y_test,predections)\n",
    "logistic_regression_model_accuracy"
   ]
  },
  {
   "cell_type": "code",
   "execution_count": 37,
   "metadata": {},
   "outputs": [
    {
     "data": {
      "text/plain": [
       "<sklearn.metrics._plot.confusion_matrix.ConfusionMatrixDisplay at 0x7fbc70215730>"
      ]
     },
     "execution_count": 37,
     "metadata": {},
     "output_type": "execute_result"
    },
    {
     "data": {
      "image/png": "[encoded data removed]",
      "text/plain": [
       "<Figure size 432x288 with 2 Axes>"
      ]
     },
     "metadata": {
      "needs_background": "light"
     },
     "output_type": "display_data"
    }
   ],
   "source": [
    "plot_confusion_matrix(log_model,scaled_x_test,y_test)"
   ]
  },
  {
   "cell_type": "code",
   "execution_count": 38,
   "metadata": {},
   "outputs": [
    {
     "name": "stdout",
     "output_type": "stream",
     "text": [
      "              precision    recall  f1-score   support\n",
      "\n",
      "           F       0.88      0.95      0.91       175\n",
      "           M       0.94      0.86      0.90       165\n",
      "\n",
      "    accuracy                           0.91       340\n",
      "   macro avg       0.91      0.90      0.91       340\n",
      "weighted avg       0.91      0.91      0.91       340\n",
      "\n"
     ]
    }
   ],
   "source": [
    "print(classification_report(y_test,predections))"
   ]
  },
  {
   "cell_type": "code",
   "execution_count": 39,
   "metadata": {},
   "outputs": [
    {
     "data": {
      "text/plain": [
       "<sklearn.metrics._plot.roc_curve.RocCurveDisplay at 0x7fbc702e4880>"
      ]
     },
     "execution_count": 39,
     "metadata": {},
     "output_type": "execute_result"
    },
    {
     "data": {
      "image/png": "[encoded data removed]",
      "text/plain": [
       "<Figure size 432x288 with 1 Axes>"
      ]
     },
     "metadata": {
      "needs_background": "light"
     },
     "output_type": "display_data"
    }
   ],
   "source": [
    "plot_roc_curve(log_model,scaled_x_test,y_test)"
   ]
  }
 ],
 "metadata": {
  "kernelspec": {
   "display_name": "Python 3",
   "language": "python",
   "name": "python3"
  },
  "language_info": {
   "codemirror_mode": {
    "name": "ipython",
    "version": 3
   },
   "file_extension": ".py",
   "mimetype": "text/x-python",
   "name": "python",
   "nbconvert_exporter": "python",
   "pygments_lexer": "ipython3",
   "version": "3.8.3"
  }
 },
 "nbformat": 4,
 "nbformat_minor": 4
}
